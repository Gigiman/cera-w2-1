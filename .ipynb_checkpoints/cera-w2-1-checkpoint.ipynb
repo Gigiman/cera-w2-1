{
 "cells": [
  {
   "cell_type": "code",
   "execution_count": 87,
   "metadata": {},
   "outputs": [],
   "source": [
    "import numpy as np\n",
    "import re\n",
    "from scipy.spatial.distance import cosine\n",
    " \n",
    "sentences = []\n",
    "data = []\n",
    "# read the file and make it lowercase\n",
    "with open('sentences.txt', 'r') as fileinput:\n",
    "    for line in fileinput:\n",
    "        line = line.lower()\n",
    "        sentences.append(line)\n",
    "        words = (re.sub(\"[^a-z]\", \" \",  line).split())\n",
    "        for i in words:\n",
    "            data.append(i)"
   ]
  },
  {
   "cell_type": "code",
   "execution_count": 88,
   "metadata": {},
   "outputs": [],
   "source": [
    "# create a dictionary with words and indexes\n",
    "words = {}\n",
    "word_index = 0\n",
    "\n",
    "for i in data:\n",
    "    if i not in words:\n",
    "        words[i] = word_index\n",
    "        word_index += 1\n",
    "\n",
    "# print(words)"
   ]
  },
  {
   "cell_type": "code",
   "execution_count": 127,
   "metadata": {},
   "outputs": [],
   "source": [
    "# create a matrix\n",
    "\n",
    "# number of sentences\n",
    "n = len(sentences)\n",
    "# number of words\n",
    "d = len(words)\n",
    "\n",
    "matrix_data = []\n",
    "\n",
    "for line in sentences:\n",
    "    line_arr = []\n",
    "    for key, value in words.items():\n",
    "        line_arr.append(line.count(key))\n",
    "    matrix_data.append(line_arr)\n",
    "    \n",
    "matrix = np.array(matrix_data, dtype=None)\n",
    "\n"
   ]
  },
  {
   "cell_type": "code",
   "execution_count": 128,
   "metadata": {},
   "outputs": [
    {
     "name": "stdout",
     "output_type": "stream",
     "text": [
      "[4, 1]\n"
     ]
    }
   ],
   "source": [
    "distances = []\n",
    "closest_lines = []\n",
    "\n",
    "for i in range(matrix.shape[0]):\n",
    "    distances.append(cosine(matrix[0], matrix[i]))\n",
    "\n",
    "\n",
    "for i in distances:\n",
    "    while len(closest_lines) < 2:\n",
    "        closest_lines.append(distances.index(min(distances[1:])))\n",
    "        del distances[distances.index(min(distances[1:]))]\n",
    "        break\n",
    "\n",
    "print(closest_lines)"
   ]
  },
  {
   "cell_type": "code",
   "execution_count": 129,
   "metadata": {},
   "outputs": [],
   "source": [
    "f = open(\"cera_w2_1.txt\",\"w+\")\n",
    "for i in closest_lines:\n",
    "    f.write(str(i) + ' ')\n",
    "f.close()"
   ]
  },
  {
   "cell_type": "code",
   "execution_count": null,
   "metadata": {},
   "outputs": [],
   "source": []
  }
 ],
 "metadata": {
  "kernelspec": {
   "display_name": "Python 3",
   "language": "python",
   "name": "python3"
  },
  "language_info": {
   "codemirror_mode": {
    "name": "ipython",
    "version": 3
   },
   "file_extension": ".py",
   "mimetype": "text/x-python",
   "name": "python",
   "nbconvert_exporter": "python",
   "pygments_lexer": "ipython3",
   "version": "3.7.3"
  }
 },
 "nbformat": 4,
 "nbformat_minor": 2
}
